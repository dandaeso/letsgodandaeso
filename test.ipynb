{
 "cells": [
  {
   "cell_type": "code",
   "execution_count": 1,
   "metadata": {},
   "outputs": [
    {
     "name": "stdout",
     "output_type": "stream",
     "text": [
      "Requirement already satisfied: pyinstaller in c:\\users\\82108\\anaconda3\\lib\\site-packages (6.10.0)\n",
      "Requirement already satisfied: setuptools>=42.0.0 in c:\\users\\82108\\anaconda3\\lib\\site-packages (from pyinstaller) (68.2.2)\n",
      "Requirement already satisfied: altgraph in c:\\users\\82108\\anaconda3\\lib\\site-packages (from pyinstaller) (0.17.4)\n",
      "Requirement already satisfied: pyinstaller-hooks-contrib>=2024.8 in c:\\users\\82108\\anaconda3\\lib\\site-packages (from pyinstaller) (2024.8)\n",
      "Requirement already satisfied: packaging>=22.0 in c:\\users\\82108\\anaconda3\\lib\\site-packages (from pyinstaller) (23.1)\n",
      "Requirement already satisfied: pefile>=2022.5.30 in c:\\users\\82108\\anaconda3\\lib\\site-packages (from pyinstaller) (2024.8.26)\n",
      "Requirement already satisfied: pywin32-ctypes>=0.2.1 in c:\\users\\82108\\anaconda3\\lib\\site-packages (from pyinstaller) (0.2.3)\n"
     ]
    }
   ],
   "source": [
    "!pip install pyinstaller"
   ]
  }
 ],
 "metadata": {
  "kernelspec": {
   "display_name": "base",
   "language": "python",
   "name": "python3"
  },
  "language_info": {
   "codemirror_mode": {
    "name": "ipython",
    "version": 3
   },
   "file_extension": ".py",
   "mimetype": "text/x-python",
   "name": "python",
   "nbconvert_exporter": "python",
   "pygments_lexer": "ipython3",
   "version": "3.11.7"
  }
 },
 "nbformat": 4,
 "nbformat_minor": 2
}
